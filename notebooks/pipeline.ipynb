{
 "cells": [
  {
   "cell_type": "markdown",
   "metadata": {},
   "source": [
    "Slide 1\n",
    "<!--- ![](../reports/presentations/20231205/1.png) -->"
   ]
  },
  {
   "cell_type": "markdown",
   "metadata": {},
   "source": [
    "# Pipeline"
   ]
  },
  {
   "cell_type": "markdown",
   "metadata": {},
   "source": [
    "Slides 2-4\n",
    "<!--- ![](../reports/presentations/20231205/2.png)\n",
    "![](../reports/presentations/20231205/3.png)\n",
    "![](../reports/presentations/20231205/4.png)--->"
   ]
  },
  {
   "cell_type": "markdown",
   "metadata": {},
   "source": [
    "## Setup"
   ]
  },
  {
   "cell_type": "markdown",
   "metadata": {},
   "source": [
    "### Imports"
   ]
  },
  {
   "cell_type": "code",
   "execution_count": 1,
   "metadata": {},
   "outputs": [
    {
     "name": "stderr",
     "output_type": "stream",
     "text": [
      "/Users/leoh/Workspace/Anaconda/anaconda3/envs/nlp-rules/lib/python3.10/site-packages/tqdm/auto.py:21: TqdmWarning: IProgress not found. Please update jupyter and ipywidgets. See https://ipywidgets.readthedocs.io/en/stable/user_install.html\n",
      "  from .autonotebook import tqdm as notebook_tqdm\n"
     ]
    }
   ],
   "source": [
    "# External imports\n",
    "import os\n",
    "import sys\n",
    "import spacy\n",
    "\n",
    "\n",
    "# Get the current working directory (assuming the notebook is in the notebooks folder)\n",
    "current_dir = os.getcwd()\n",
    "\n",
    "# Add the parent directory (project root) to the Python path\n",
    "parent_dir = os.path.dirname(current_dir)\n",
    "sys.path.append(parent_dir)\n",
    "\n",
    "# Relative imports\n",
    "from src.utils import ld_spcy_mdl\n",
    "from src.preprocess import Preprocessor\n",
    "from src.modelling import search_constraints_in_data\n",
    "from src.evaluation import cnstrnts_gs, sbert_smlarty, sbert_smlarty_cmpntns, evlt_prec_rec"
   ]
  },
  {
   "cell_type": "markdown",
   "metadata": {},
   "source": [
    "### Files"
   ]
  },
  {
   "cell_type": "code",
   "execution_count": 2,
   "metadata": {},
   "outputs": [],
   "source": [
    "# Define variables to use as keys\n",
    "aktg = \"AktG\"\n",
    "cdm_01 = \"CDM 01: A/R Mangroves\"\n",
    "cdm_02 = \"CDM 02: A/R Non-wetlands\"\n",
    "cdm_03 = \"CDM 03: Cable Cars\"\n",
    "cdm_04 = \"CDM 04: Energy Efficiency\"\n",
    "cdm_05 = \"CDM 05: Electriciy Generation\"\n",
    "coffee = \"Coffee\"\n",
    "patg = \"PatG\"\n",
    "\n",
    "# Define file paths\n",
    "file_paths_input = {\n",
    "    aktg: os.path.join('..', 'data', 'aktg', 'input_aktg.txt'),\n",
    "    cdm_01: os.path.join('..', 'data', 'cdm', 'input_cdm_01.txt'),\n",
    "    cdm_02: os.path.join('..', 'data', 'cdm', 'input_cdm_02.txt'),\n",
    "    cdm_03: os.path.join('..', 'data', 'cdm', 'input_cdm_03.txt'),\n",
    "    cdm_04: os.path.join('..', 'data', 'cdm', 'input_cdm_04.txt'),\n",
    "    cdm_05: os.path.join('..', 'data', 'cdm', 'input_cdm_05.txt'),  \n",
    "    coffee: os.path.join('..', 'data', 'coffee', 'input_coffee.txt'),\n",
    "    patg: os.path.join('..', 'data', 'patg', 'input_patg.txt'),  \n",
    "}\n",
    "\n",
    "file_paths_output = {\n",
    "    aktg: os.path.join('..', 'data', 'aktg', 'output_aktg.txt'),\n",
    "    cdm_01: os.path.join('..', 'data', 'cdm', 'output_cdm_01.txt'),\n",
    "    cdm_02: os.path.join('..', 'data', 'cdm', 'output_cdm_02.txt'),\n",
    "    cdm_03: os.path.join('..', 'data', 'cdm', 'output_cdm_03.txt'),\n",
    "    cdm_04: os.path.join('..', 'data', 'cdm', 'output_cdm_04.txt'),\n",
    "    cdm_05: os.path.join('..', 'data', 'cdm', 'output_cdm_05.txt'),  \n",
    "    coffee: os.path.join('..', 'data', 'coffee', 'output_coffee.txt'),\n",
    "    patg: os.path.join('..', 'data', 'patg', 'output_patg.txt'),  \n",
    "}"
   ]
  },
  {
   "cell_type": "markdown",
   "metadata": {},
   "source": [
    "### Parameter"
   ]
  },
  {
   "cell_type": "code",
   "execution_count": 3,
   "metadata": {},
   "outputs": [
    {
     "name": "stdout",
     "output_type": "stream",
     "text": [
      "The model en_core_web_lg is already installed!\n"
     ]
    }
   ],
   "source": [
    "# spaCy model\n",
    "model = 'en_core_web_lg'\n",
    "\n",
    "# Load the spaCy model\n",
    "nlp = ld_spcy_mdl(model=model)\n",
    "\n",
    "# Define custom stop words\n",
    "add_stpwrds = []\n",
    "non_stpwrds = [\n",
    "    \"a\",\n",
    "    \"above\",\n",
    "    \"all\",\n",
    "    \"amount\",\n",
    "    \"and\",\n",
    "    \"as\",\n",
    "    \"at\",\n",
    "    \"be\",\n",
    "    \"before\",\n",
    "    \"below\",\n",
    "    \"between\",\n",
    "    \"beyond\",\n",
    "    \"both\",\n",
    "    \"by\",\n",
    "    \"can\",\n",
    "    \"each\",\n",
    "    \"either\",\n",
    "    \"else\",\n",
    "    \"even\",\n",
    "    \"except\",\n",
    "    \"for\",\n",
    "    \"i\",\n",
    "    \"if\",\n",
    "    \"last\",\n",
    "    \"least\",\n",
    "    \"less\",\n",
    "    \"may\",\n",
    "    \"more\",\n",
    "    \"most\",\n",
    "    \"must\",\n",
    "    \"name\",\n",
    "    \"next\",\n",
    "    \"no\",\n",
    "    \"none\",\n",
    "    \"not\",\n",
    "    \"nothing\",\n",
    "    \"of\",\n",
    "    \"on\",\n",
    "    \"only\",\n",
    "    \"otherwise\",\n",
    "    \"over\",\n",
    "    \"or\",\n",
    "    \"out\",\n",
    "    \"per\",\n",
    "    \"several\",\n",
    "    \"should\",\n",
    "    \"than\",\n",
    "    \"then\",\n",
    "    \"to\",\n",
    "    \"under\",\n",
    "    \"up\",\n",
    "    \"what\",\n",
    "    \"when\",\n",
    "    \"with\"\n",
    "]\n",
    "\n",
    "# This is needed because spaCy struggles with linebreak characters, but the information is needed for the enumeration (see also https://github.com/explosion/spaCy/issues/7735)\n",
    "linebreak = \" NEWLINE \"\n",
    "\n",
    "# Define character sequences to replace\n",
    "replace = {\"\\n\\n\": \"\\n\", \n",
    "           \"\\n \\n\": \"\\n\",\n",
    "           \"\\n \\n\\n\": \"\\n\",\n",
    "           \"\\n\\n \\n\": \"\\n\",\n",
    "           \"\\n\": linebreak,\n",
    "           \"   \": \" \",\n",
    "           \"  \": \" \"} \n",
    "\n",
    "# Define character sequences to remove\n",
    "remove=[\"\\t\"]\n",
    "\n",
    "# Patterns for different enumeration items types for regex matching (to split into chunks)\n",
    "enum_patterns = {\n",
    "    'number_in_parentheses': r\"\\(\\d+\\)\",\n",
    "    'number_with_dot': r\"\\d+\\.\",\n",
    "    'alphabetical_in_parentheses': r\"\\([a-z]\\)\",\n",
    "    'roman_numeral_in_parentheses': r\"\\([ivxlcdm]+\\)\",\n",
    "}\n",
    "\n",
    "# Patterns for different enumeration items types for spaCy matching (to label enumeration tokens)\n",
    "# Every pattern has to follow a linebreak; additionally, the order of the pattern has to be followed (e.g., \"v\" as alphabetical_in_parentheses can only be a match, if the previous one was also alphabetical_in_parentheses \n",
    "enum_patterns_spacy = {\n",
    "    'number_in_parentheses': lambda: [{\"TEXT\": \"(\"}, {\"IS_DIGIT\": True}, {\"TEXT\": \")\"}],\n",
    "    'number_with_dot': lambda: [{\"IS_DIGIT\": True}, {\"TEXT\": \".\"}, {\"IS_DIGIT\": False}],\n",
    "    'alphabetical_in_parentheses': lambda: [{\"TEXT\": \"(\"}, {\"TEXT\": {\"IN\": [\"a\", \"b\", \"c\", \"d\", \"e\", \"f\", \"g\", \"h\"]}}, {\"TEXT\": \")\"}],\n",
    "    'roman_numeral_in_parentheses': lambda: [{\"TEXT\": \"(\"}, {\"TEXT\": {\"IN\": [\"i\", \"ii\", \"iii\", \"iv\", \"v\", \"vi\", \"vii\", \"viii\"]}}, {\"TEXT\": \")\"}],\n",
    "}\n",
    "\n",
    "no_digit_or_period = [{\"TEXT\": {\"NOT_IN\": [\".\"]}, \"IS_DIGIT\": False, \"OP\": \"*\"}]\n",
    "\n",
    "# Define inequality matching parameters\n",
    "inequality_params = {\n",
    "    \"general\": {\n",
    "        \"below\": \"<\",\n",
    "        \"less than\": \"<\",\n",
    "        \"low than\": \"<\",\n",
    "        \"small than\": \"<\",\n",
    "        \"as high as\": \"<=\",\n",
    "        \"at most\": \"<=\",\n",
    "        \"up to\": \"<=\",\n",
    "        \"remain at\": \"<=\",\n",
    "        \"eligibility limit of\": \"<=\",\n",
    "        \"above\": \">\",\n",
    "        \"beyond\": \">\",\n",
    "        \"exceed\": \">\",\n",
    "        \"great than\": \">\",\n",
    "        \"high than\": \">\",\n",
    "        \"more than\": \">\",\n",
    "        \"surpass\": \">\",\n",
    "        \"at least\": \">=\"\n",
    "    },\n",
    "    \"exceptions\": {},\n",
    "    \"exception_patterns\": {\n",
    "    # coffee\n",
    "    \"reach_beyond\": lambda: [{\"LOWER\": \"reach\"}] + no_digit_or_period + [{\"LIKE_NUM\": True}] + no_digit_or_period + [{\"LOWER\": \"beyond\"}],\n",
    "    \"low_allow\": lambda: [{\"LOWER\": \"low\"}] + no_digit_or_period + [{\"LOWER\": \"allow\"}] + no_digit_or_period + [{\"LIKE_NUM\": True}],\n",
    "    \"between\": lambda: [{\"LOWER\": \"between\"}, {\"LIKE_NUM\": True}] + no_digit_or_period + [{\"LIKE_NUM\": True}],\n",
    "    \"brackets\": lambda: [{\"TEXT\": \"[\"}, {\"LIKE_NUM\": True}, {\"IS_DIGIT\": False, \"OP\": \"?\"},{\"IS_DIGIT\": False, \"OP\": \"?\"},{\"IS_DIGIT\": False, \"OP\": \"?\"},{\"LIKE_NUM\": True},{\"IS_DIGIT\": False, \"OP\": \"*\"}, {\"TEXT\": \"]\"}],\n",
    "    \"parentheses\": lambda: [{\"TEXT\": \"(\"}, {\"LIKE_NUM\": True}, {\"IS_DIGIT\": False, \"OP\": \"?\"},{\"IS_DIGIT\": False, \"OP\": \"?\"},{\"IS_DIGIT\": False, \"OP\": \"?\"},{\"LIKE_NUM\": True},{\"IS_DIGIT\": False, \"OP\": \"*\"}, {\"TEXT\": \")\"}]\n",
    "    },\n",
    "    \"negation_operators\": {\n",
    "        \"<\": \">=\",\n",
    "        \"<=\": \">\",\n",
    "        \">\": \"<=\",\n",
    "        \">=\": \"<\"\n",
    "    },\n",
    "    \"negation_tokens\": {\"not\", \"no\"},\n",
    "    \"window_size\": (5, 0)\n",
    "}\n",
    "\n",
    "# Define equality matching parameters\n",
    "equality_params = {\n",
    "    \"general\": {\n",
    "        \"must\": \"==\",\n",
    "        \"shall\": \"==\",\n",
    "        \"should\": \"==\"\n",
    "    },\n",
    "    \"exceptions\": {\n",
    "        # aktg\n",
    "        \"be to set out\": \"==\",\n",
    "        \"applicable under\": \"==\",\n",
    "        # cdm_01\n",
    "        \"apply to\": \"==\",\n",
    "        # cdm_02\n",
    "        \"applicable to\": \"==\",\n",
    "        # cdm_03\n",
    "        \"eligible under\": \"==\",\n",
    "        # cdm_05\n",
    "        \"category comprise\": \"==\",\n",
    "        \"include category\": \"==\",\n",
    "        \"be limit to\": \"==\",\n",
    "        # patg\n",
    "        \"be to be\": \"==\"\n",
    "    },\n",
    "    \"exception_patterns\": {\n",
    "    # aktg\n",
    "    \"may_only\": lambda: [{\"LOWER\": \"may\"}] + no_digit_or_period + [{\"LOWER\": \"only\"}],\n",
    "    # cdm_01\n",
    "    \"fall_in\": lambda: [{\"LOWER\": \"fall\"}] + no_digit_or_period + [{\"LOWER\": \"category\"}],\n",
    "    # cdm_04\n",
    "    \"none_may\": lambda: [{\"LOWER\": \"none\"}] + no_digit_or_period + [{\"LOWER\": \"may\"}],\n",
    "    },\n",
    "    \"negation_operators\": {\n",
    "        \"==\": \"!=\"\n",
    "    },\n",
    "    \"negation_tokens\": {\"not\", \"no\"},\n",
    "    \"window_size\": (3, 2)\n",
    "}\n",
    "\n",
    "# Define meta matching parameters\n",
    "meta_params = {\n",
    "    \"enum_exceptions\": {\n",
    "        # cdm 05\n",
    "        \"at least one of\": \"OR\",\n",
    "    },\n",
    "    \"if_patterns\": {\n",
    "        \"if_then\": lambda: [{\"LOWER\": \"if\"}, {\"TEXT\": {\"NOT_IN\": [\":\",\".\",\";\"]}, \"OP\": \"*\"},{\"TEXT\": {\"IN\": [\",\"]}, \"OP\": \"?\"}, {\"LOWER\": \"then\"}],\n",
    "        \"if_comma\": lambda: [{\"LOWER\": \"if\"}, {\"TEXT\": {\"NOT_IN\": [\":\",\".\",\";\"]}, \"OP\": \"*\"},{\"TEXT\": {\"IN\": [\",\"]}}, {\"TEXT\": {\"NOT_IN\": [\"then\"]}}]\n",
    "    },\n",
    "    \"negation_tokens\": {\"not\", \"no\"}, # Used for if_patterns\n",
    "    \"window_size\": (0, 5)             # Used for if_patterns\n",
    "}\n"
   ]
  },
  {
   "cell_type": "markdown",
   "metadata": {},
   "source": [
    "## Preprocessing"
   ]
  },
  {
   "cell_type": "code",
   "execution_count": 4,
   "metadata": {},
   "outputs": [],
   "source": [
    "# Create preprocessing object\n",
    "pp = Preprocessor(nlp, file_paths_input, verbose=False)\n",
    "\n",
    "# Add and remove custom stop words globally to the spacy.util.get_lang_class('en')\n",
    "stpwrds = pp.chng_stpwrds(add=add_stpwrds,remove=non_stpwrds, remove_numbers=True)\n",
    "\n",
    "# Uncomment this line to restore the default set of stpwrds\n",
    "# stpwrds = chng_stpwrds(restore_default=True, verbose=True)\n",
    "\n",
    "# Process all files\n",
    "data = pp.optimized_preprocessing(replace, remove, linebreak, enum_patterns, enum_patterns_spacy)"
   ]
  },
  {
   "cell_type": "markdown",
   "metadata": {},
   "source": [
    "## Modelling"
   ]
  },
  {
   "cell_type": "markdown",
   "metadata": {},
   "source": [
    "### Constraint Search"
   ]
  },
  {
   "cell_type": "code",
   "execution_count": 5,
   "metadata": {},
   "outputs": [],
   "source": [
    "constraints = search_constraints_in_data(nlp, data, equality_params, inequality_params, meta_params, verbose=False)"
   ]
  },
  {
   "cell_type": "code",
   "execution_count": null,
   "metadata": {},
   "outputs": [],
   "source": [
    "# def _build_single_constraint(part, trigger, rules, start, end):\n",
    "#     \"\"\"\n",
    "#     \"\"\"\n",
    "#     constraint = \"\"\n",
    "\n",
    "#     rule = rules[trigger]\n",
    "#     left = rule[\"left\"]\n",
    "#     right = rule[\"right\"]\n",
    "#     operator = rule[\"operator\"]\n",
    "    \n",
    "\n",
    "#     if right == \"NUMBER\":\n",
    "#         right = str(5) # TODO: get number from chunk after trigger\n",
    "    \n",
    "\n",
    "\n",
    "#     constraint = left + operator + right\n",
    "#     return constraint\n",
    "\n",
    "#     return (constraint, start, end)\n",
    "\n",
    "# def rule_based_constraints(doc, rules, esc='/n'):\n",
    "#     \"\"\"\n",
    "#     Extracts the constraints from the doc object, given the set of rules.\n",
    "#     :param doc: Preprocessed input as a spaCy doc object.\n",
    "#     :param rules: Set of rules.\n",
    "#     :param esc: Character sequence to demark the end of the split.\n",
    "#     :return: Dictionary with constraints in the format '({PROCESS_STEP_1}, {PROCESS_STEP_2}, {directly follows}, {CONSTRAINT})'. PROCESS_STEP_2 follows PROCESS_STEP_1, if CONSTRAINT is True. Keys are \"c{idx}\", idx being a running number.\n",
    "#     \"\"\"\n",
    "#     constraints = {}\n",
    "#     constraints_tmp = {}\n",
    "#     idx = 1\n",
    "#     start = 0\n",
    "    \n",
    "#     # Split the doc into chunks.\n",
    "#     chunk, end = _split(doc,start,esc=esc)\n",
    "\n",
    "#     # Check the chunk for a constraint\n",
    "#     trigger, level, parts, connector = _check_for_trigger(chunk, rules)\n",
    "\n",
    "#     # For a meta-rule\n",
    "#     if trigger:\n",
    "#         if level == 'meta':\n",
    "            \n",
    "#             #TODO\n",
    "\n",
    "#             pass \n",
    "#         else:\n",
    "#             if connector == 'OR':\n",
    "#                 for part in parts:\n",
    "#                     # First, build only the constraint\n",
    "#                     constraints_tmp[f\"c{idx}\"] = _build_single_constraint(part, trigger, rules, start, end)\n",
    "#                     # Increase the index for the key\n",
    "#                     idx += 1\n",
    "#             if connector == 'AND':\n",
    "            \n",
    "\n",
    "#     # \n"
   ]
  },
  {
   "cell_type": "markdown",
   "metadata": {},
   "source": [
    "## Evaluation"
   ]
  },
  {
   "cell_type": "code",
   "execution_count": null,
   "metadata": {},
   "outputs": [],
   "source": [
    "constraints_dummy_cdm = {\n",
    "    # Exact match\n",
    "    \"c1\": \"({check project type}, {check connection type}, {directly follows}, {project type == new installation OR project type == replacing existing fossil-fuel-fired generation})\",\n",
    "    # Close match\n",
    "    \"c2\": \"({check power plant type}, {check hydro power plant}, {directly follows}, {power plant type == hydro power})\",\n",
    "    # No match\n",
    "    \"c3\": \"({check combustion}, {check emissions}, {directly follows}, {fuel == coal})\"\n",
    "}\n",
    "constraints_dummy_cdm = {\n",
    "    'c1': '({check transport mode}, {check project type}, {directly follows}, {transport_mode == cable_car})',\n",
    "    'c2': '({check project type}, {verify road accessibility}, {directly follows}, {project_type == new_construction})',\n",
    "    'c3': '({verify road accessibility}, {assess fuel type}, {directly follows}, {accessibility == accessible_by_road})',\n",
    "    'c4': '({assess fuel type}, {evaluate baseline scenario}, {directly follows}, {fuel_type in [electricity, gaseous_fossil, liquid_fossil, bio_fuel_blend]})',\n",
    "    'c5': '({evaluate baseline scenario}, {check emission reduction measures}, {directly follows}, {baseline_scenario == represents_continuation_of_current_transport_system})',\n",
    "    'c6': '({check emission reduction measures}, {apply methodology}, {directly follows}, {emission_reduction <= 60})'\n",
    "  }"
   ]
  },
  {
   "cell_type": "markdown",
   "metadata": {},
   "source": [
    "### Calculating similarity scores"
   ]
  },
  {
   "cell_type": "code",
   "execution_count": null,
   "metadata": {},
   "outputs": [
    {
     "data": {
      "text/plain": [
       "{'c1': '({check project context}, {check impact on emissions}, {directly follows}, {project_context == substitution})',\n",
       " 'c2': '({check impact on emissions}, {check accessibility by road}, {directly follows}, {(relevancy_for_trip == part_of_trip OR relevancy_for_trip == total_trip) AND project_type == no_extension})',\n",
       " 'c3': '({check accessibility by road}, {check compliance of fuels used in baseline or project case}, {directly follows}, {cable_car_accessibility == accessible_by_road})',\n",
       " 'c4': '({check compliance of fuels used in baseline or project case}, {check emission reductions of measures}, {directly follows}, {fuel_complinace == compliant})',\n",
       " 'c5': '({check emission reductions of measures}, {apply methodology}, {directly follows}, {annual_emission_reductions <= 60})'}"
      ]
     },
     "execution_count": 26,
     "metadata": {},
     "output_type": "execute_result"
    }
   ],
   "source": [
    "\n",
    "# Transform content to dictionary\n",
    "constraints_gs_cdm = cnstrnts_gs(file_paths_output[cdm_03])\n",
    "constraints_gs_cdm"
   ]
  },
  {
   "cell_type": "code",
   "execution_count": null,
   "metadata": {},
   "outputs": [
    {
     "name": "stdout",
     "output_type": "stream",
     "text": [
      "c1 - c1: 0.21385955810546875\n",
      "c1 - c2: 0.35957950353622437\n",
      "c1 - c3: 0.6039201617240906\n",
      "c1 - c4: 0.2667376399040222\n",
      "c1 - c5: 0.1387031376361847\n",
      "c2 - c1: 0.4972173869609833\n",
      "c2 - c2: 0.5726252198219299\n",
      "c2 - c3: 0.6562173366546631\n",
      "c2 - c4: 0.3718118369579315\n",
      "c2 - c5: 0.18491506576538086\n",
      "c3 - c1: 0.31267333030700684\n",
      "c3 - c2: 0.5731697082519531\n",
      "c3 - c3: 0.7932422757148743\n",
      "c3 - c4: 0.5343741178512573\n",
      "c3 - c5: 0.27760469913482666\n",
      "c4 - c1: 0.43337613344192505\n",
      "c4 - c2: 0.48290836811065674\n",
      "c4 - c3: 0.44578421115875244\n",
      "c4 - c4: 0.6653098464012146\n",
      "c4 - c5: 0.38735431432724\n",
      "c5 - c1: 0.467267781496048\n",
      "c5 - c2: 0.5613568425178528\n",
      "c5 - c3: 0.4916863441467285\n",
      "c5 - c4: 0.6432697772979736\n",
      "c5 - c5: 0.6333381533622742\n",
      "c6 - c1: 0.4546964764595032\n",
      "c6 - c2: 0.4802422523498535\n",
      "c6 - c3: 0.39830970764160156\n",
      "c6 - c4: 0.6162562370300293\n",
      "c6 - c5: 0.947476327419281\n"
     ]
    }
   ],
   "source": [
    "similarity_scores = sbert_smlarty(constraints_dummy_cdm, constraints_gs_cdm, model='all-mpnet-base-v2')\n",
    "\n",
    "for key, value in similarity_scores.items():\n",
    "    print(f'{key}: {value}')"
   ]
  },
  {
   "cell_type": "code",
   "execution_count": null,
   "metadata": {},
   "outputs": [],
   "source": [
    "matches_step_1, matches_step_2, matches_constraints = sbert_smlarty_cmpntns(similarity_scores, constraints_dummy_cdm, constraints_gs_cdm, threshold=0.5, model='paraphrase-MiniLM-L6-v2', matching_mode='unique')"
   ]
  },
  {
   "cell_type": "code",
   "execution_count": null,
   "metadata": {},
   "outputs": [
    {
     "data": {
      "text/html": [
       "<div>\n",
       "<style scoped>\n",
       "    .dataframe tbody tr th:only-of-type {\n",
       "        vertical-align: middle;\n",
       "    }\n",
       "\n",
       "    .dataframe tbody tr th {\n",
       "        vertical-align: top;\n",
       "    }\n",
       "\n",
       "    .dataframe thead th {\n",
       "        text-align: right;\n",
       "    }\n",
       "</style>\n",
       "<table border=\"1\" class=\"dataframe\">\n",
       "  <thead>\n",
       "    <tr style=\"text-align: right;\">\n",
       "      <th></th>\n",
       "      <th>Constraint pair</th>\n",
       "      <th>Group similarity</th>\n",
       "      <th>From</th>\n",
       "      <th>To</th>\n",
       "      <th>Similarity</th>\n",
       "    </tr>\n",
       "  </thead>\n",
       "  <tbody>\n",
       "    <tr>\n",
       "      <th>0</th>\n",
       "      <td>c6 - c5</td>\n",
       "      <td>0.947476</td>\n",
       "      <td>check emission reduction measures</td>\n",
       "      <td>check emission reductions of measures</td>\n",
       "      <td>0.970580</td>\n",
       "    </tr>\n",
       "    <tr>\n",
       "      <th>1</th>\n",
       "      <td>c3 - c3</td>\n",
       "      <td>0.793242</td>\n",
       "      <td>verify road accessibility</td>\n",
       "      <td>check accessibility by road</td>\n",
       "      <td>0.934091</td>\n",
       "    </tr>\n",
       "    <tr>\n",
       "      <th>2</th>\n",
       "      <td>c4 - c4</td>\n",
       "      <td>0.665310</td>\n",
       "      <td>assess fuel type</td>\n",
       "      <td>check compliance of fuels used in baseline or ...</td>\n",
       "      <td>0.652995</td>\n",
       "    </tr>\n",
       "    <tr>\n",
       "      <th>3</th>\n",
       "      <td>c2 - c2</td>\n",
       "      <td>0.572625</td>\n",
       "      <td>check project type</td>\n",
       "      <td>check impact on emissions</td>\n",
       "      <td>0.191832</td>\n",
       "    </tr>\n",
       "  </tbody>\n",
       "</table>\n",
       "</div>"
      ],
      "text/plain": [
       "  Constraint pair  Group similarity                               From  \\\n",
       "0         c6 - c5          0.947476  check emission reduction measures   \n",
       "1         c3 - c3          0.793242          verify road accessibility   \n",
       "2         c4 - c4          0.665310                   assess fuel type   \n",
       "3         c2 - c2          0.572625                 check project type   \n",
       "\n",
       "                                                  To  Similarity  \n",
       "0              check emission reductions of measures    0.970580  \n",
       "1                        check accessibility by road    0.934091  \n",
       "2  check compliance of fuels used in baseline or ...    0.652995  \n",
       "3                          check impact on emissions    0.191832  "
      ]
     },
     "execution_count": 30,
     "metadata": {},
     "output_type": "execute_result"
    }
   ],
   "source": [
    "matches_step_1"
   ]
  },
  {
   "cell_type": "code",
   "execution_count": null,
   "metadata": {},
   "outputs": [
    {
     "data": {
      "text/html": [
       "<div>\n",
       "<style scoped>\n",
       "    .dataframe tbody tr th:only-of-type {\n",
       "        vertical-align: middle;\n",
       "    }\n",
       "\n",
       "    .dataframe tbody tr th {\n",
       "        vertical-align: top;\n",
       "    }\n",
       "\n",
       "    .dataframe thead th {\n",
       "        text-align: right;\n",
       "    }\n",
       "</style>\n",
       "<table border=\"1\" class=\"dataframe\">\n",
       "  <thead>\n",
       "    <tr style=\"text-align: right;\">\n",
       "      <th></th>\n",
       "      <th>Constraint pair</th>\n",
       "      <th>Group similarity</th>\n",
       "      <th>From</th>\n",
       "      <th>To</th>\n",
       "      <th>Similarity</th>\n",
       "    </tr>\n",
       "  </thead>\n",
       "  <tbody>\n",
       "    <tr>\n",
       "      <th>0</th>\n",
       "      <td>c6 - c5</td>\n",
       "      <td>0.947476</td>\n",
       "      <td>apply methodology</td>\n",
       "      <td>apply methodology</td>\n",
       "      <td>1.000000</td>\n",
       "    </tr>\n",
       "    <tr>\n",
       "      <th>1</th>\n",
       "      <td>c3 - c3</td>\n",
       "      <td>0.793242</td>\n",
       "      <td>assess fuel type</td>\n",
       "      <td>check compliance of fuels used in baseline or ...</td>\n",
       "      <td>0.652995</td>\n",
       "    </tr>\n",
       "    <tr>\n",
       "      <th>2</th>\n",
       "      <td>c4 - c4</td>\n",
       "      <td>0.665310</td>\n",
       "      <td>evaluate baseline scenario</td>\n",
       "      <td>check emission reductions of measures</td>\n",
       "      <td>0.280395</td>\n",
       "    </tr>\n",
       "    <tr>\n",
       "      <th>3</th>\n",
       "      <td>c2 - c2</td>\n",
       "      <td>0.572625</td>\n",
       "      <td>verify road accessibility</td>\n",
       "      <td>check accessibility by road</td>\n",
       "      <td>0.934091</td>\n",
       "    </tr>\n",
       "  </tbody>\n",
       "</table>\n",
       "</div>"
      ],
      "text/plain": [
       "  Constraint pair  Group similarity                        From  \\\n",
       "0         c6 - c5          0.947476           apply methodology   \n",
       "1         c3 - c3          0.793242            assess fuel type   \n",
       "2         c4 - c4          0.665310  evaluate baseline scenario   \n",
       "3         c2 - c2          0.572625   verify road accessibility   \n",
       "\n",
       "                                                  To  Similarity  \n",
       "0                                  apply methodology    1.000000  \n",
       "1  check compliance of fuels used in baseline or ...    0.652995  \n",
       "2              check emission reductions of measures    0.280395  \n",
       "3                        check accessibility by road    0.934091  "
      ]
     },
     "execution_count": 31,
     "metadata": {},
     "output_type": "execute_result"
    }
   ],
   "source": [
    "matches_step_2"
   ]
  },
  {
   "cell_type": "code",
   "execution_count": null,
   "metadata": {},
   "outputs": [
    {
     "data": {
      "text/html": [
       "<div>\n",
       "<style scoped>\n",
       "    .dataframe tbody tr th:only-of-type {\n",
       "        vertical-align: middle;\n",
       "    }\n",
       "\n",
       "    .dataframe tbody tr th {\n",
       "        vertical-align: top;\n",
       "    }\n",
       "\n",
       "    .dataframe thead th {\n",
       "        text-align: right;\n",
       "    }\n",
       "</style>\n",
       "<table border=\"1\" class=\"dataframe\">\n",
       "  <thead>\n",
       "    <tr style=\"text-align: right;\">\n",
       "      <th></th>\n",
       "      <th>Constraint pair</th>\n",
       "      <th>Group similarity</th>\n",
       "      <th>From</th>\n",
       "      <th>To</th>\n",
       "      <th>Similarity</th>\n",
       "    </tr>\n",
       "  </thead>\n",
       "  <tbody>\n",
       "    <tr>\n",
       "      <th>0</th>\n",
       "      <td>c6 - c5</td>\n",
       "      <td>0.947476</td>\n",
       "      <td>emission_reduction &lt;= 60</td>\n",
       "      <td>annual_emission_reductions &lt;= 60</td>\n",
       "      <td>0.885427</td>\n",
       "    </tr>\n",
       "    <tr>\n",
       "      <th>1</th>\n",
       "      <td>c3 - c3</td>\n",
       "      <td>0.793242</td>\n",
       "      <td>accessibility == accessible_by_road</td>\n",
       "      <td>cable_car_accessibility == accessible_by_road</td>\n",
       "      <td>0.798992</td>\n",
       "    </tr>\n",
       "    <tr>\n",
       "      <th>2</th>\n",
       "      <td>c4 - c4</td>\n",
       "      <td>0.665310</td>\n",
       "      <td>fuel_type in [electricity, gaseous_fossil, liq...</td>\n",
       "      <td>fuel_complinace == compliant</td>\n",
       "      <td>0.486402</td>\n",
       "    </tr>\n",
       "    <tr>\n",
       "      <th>3</th>\n",
       "      <td>c2 - c2</td>\n",
       "      <td>0.572625</td>\n",
       "      <td>project_type == new_construction</td>\n",
       "      <td>(relevancy_for_trip == part_of_trip OR relevan...</td>\n",
       "      <td>0.555293</td>\n",
       "    </tr>\n",
       "  </tbody>\n",
       "</table>\n",
       "</div>"
      ],
      "text/plain": [
       "  Constraint pair  Group similarity  \\\n",
       "0         c6 - c5          0.947476   \n",
       "1         c3 - c3          0.793242   \n",
       "2         c4 - c4          0.665310   \n",
       "3         c2 - c2          0.572625   \n",
       "\n",
       "                                                From  \\\n",
       "0                           emission_reduction <= 60   \n",
       "1                accessibility == accessible_by_road   \n",
       "2  fuel_type in [electricity, gaseous_fossil, liq...   \n",
       "3                   project_type == new_construction   \n",
       "\n",
       "                                                  To  Similarity  \n",
       "0                   annual_emission_reductions <= 60    0.885427  \n",
       "1      cable_car_accessibility == accessible_by_road    0.798992  \n",
       "2                       fuel_complinace == compliant    0.486402  \n",
       "3  (relevancy_for_trip == part_of_trip OR relevan...    0.555293  "
      ]
     },
     "execution_count": 32,
     "metadata": {},
     "output_type": "execute_result"
    }
   ],
   "source": [
    "matches_constraints"
   ]
  },
  {
   "cell_type": "markdown",
   "metadata": {},
   "source": [
    "### Calculating final score"
   ]
  },
  {
   "cell_type": "code",
   "execution_count": null,
   "metadata": {},
   "outputs": [
    {
     "name": "stdout",
     "output_type": "stream",
     "text": [
      "Precision: 0.18203628261884053\n",
      "Maximum precision: 0.6666666666666666\n",
      "Recall: 0.21844353914260867\n",
      "Maximum recall: 0.8\n",
      "Plot saved at: /Users/leoh/workspace/git/nlp-rule-extraction/notebooks/plots/precision_recall_curves_20240118_190354.png\n"
     ]
    },
    {
     "data": {
      "image/png": "[encoded data removed]",
      "text/plain": [
       "<Figure size 1000x600 with 1 Axes>"
      ]
     },
     "metadata": {},
     "output_type": "display_data"
    }
   ],
   "source": [
    "evlt_prec_rec(constraints_dummy_cdm, constraints_gs_cdm, matches_step_1, matches_step_2, matches_constraints, individual_weights=True, weights=[0.1, 0.1, 0.8], hard_cut=True, threshold=0.8, plot_curves=True)"
   ]
  },
  {
   "cell_type": "markdown",
   "metadata": {},
   "source": [
    "\n",
    "![](../reports/presentations/20231205/5.png)\n",
    "![](../reports/presentations/20231205/6.png)"
   ]
  },
  {
   "cell_type": "markdown",
   "metadata": {},
   "source": [
    "\n",
    "![](../reports/presentations/20231205/7.png)"
   ]
  },
  {
   "cell_type": "markdown",
   "metadata": {},
   "source": []
  }
 ],
 "metadata": {
  "kernelspec": {
   "display_name": "nlp-rules",
   "language": "python",
   "name": "python3"
  },
  "language_info": {
   "codemirror_mode": {
    "name": "ipython",
    "version": 3
   },
   "file_extension": ".py",
   "mimetype": "text/x-python",
   "name": "python",
   "nbconvert_exporter": "python",
   "pygments_lexer": "ipython3",
   "version": "3.10.13"
  }
 },
 "nbformat": 4,
 "nbformat_minor": 2
}
