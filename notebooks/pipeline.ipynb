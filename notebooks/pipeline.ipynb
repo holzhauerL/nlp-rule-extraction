{
 "cells": [
  {
   "cell_type": "code",
   "execution_count": null,
   "metadata": {},
   "outputs": [],
   "source": [
    "pattern_degree = [\n",
    "    {\"POS\": \"NUM\"},\n",
    "    {\"LEMMA\": \"degree\"}\n",
    "]\n",
    "pattern_between = [\n",
    "    {\"LEMMA\": \"between\"}\n",
    "]\n",
    "\n",
    "# Add the pattern to the matcher\n",
    "matcher = Matcher(nlp.vocab)\n",
    "matcher.add(\"DEGREE\", [pattern_degree])\n",
    "matcher.add(\"BETWEEN\", [pattern_between])\n",
    "\n",
    "matches = matcher(doc)\n",
    "\n",
    "# Iterate over the matches\n",
    "for match_id, start, end in matches:\n",
    "    # Get the matched span\n",
    "    matched_span = doc[start:end]\n",
    "    matched_span_context = doc[start-4:end+4]\n",
    "    print(matched_span.text, \":::\",matched_span_context.text)\n",
    "\n",
    "\n",
    "# display structure of matches\n",
    "spacy.displacy.serve(doc, style=\"dep\",port=8000)"
   ]
  },
  {
   "cell_type": "code",
   "execution_count": 2,
   "metadata": {},
   "outputs": [
    {
     "name": "stdout",
     "output_type": "stream",
     "text": [
      "Intel MKL WARNING: Support of Intel(R) Streaming SIMD Extensions 4.2 (Intel(R) SSE4.2) enabled only processors has been deprecated. Intel oneAPI Math Kernel Library 2025.0 will require Intel(R) Advanced Vector Extensions (Intel(R) AVX) instructions.\n",
      "Intel MKL WARNING: Support of Intel(R) Streaming SIMD Extensions 4.2 (Intel(R) SSE4.2) enabled only processors has been deprecated. Intel oneAPI Math Kernel Library 2025.0 will require Intel(R) Advanced Vector Extensions (Intel(R) AVX) instructions.\n"
     ]
    }
   ],
   "source": [
    "import spacy\n",
    "from spacy.matcher import Matcher\n",
    "import pandas as pd"
   ]
  },
  {
   "cell_type": "code",
   "execution_count": null,
   "metadata": {},
   "outputs": [],
   "source": [
    "# Load a pipeline and create the nlp object\n",
    "nlp = spacy.load(\"en_core_web_lg\")"
   ]
  },
  {
   "cell_type": "markdown",
   "metadata": {},
   "source": [
    "# (A) Splitting and Cleaning & (B) Enhancement\n",
    "### Tasks:\n",
    "- text transformation (is the data available in the needed format or does it need\n",
    "to be transformed or even generated in that format?)\n",
    "- text cleaning (e.g. remove stop words, lemmatize)\n",
    "- extraction of desired information (e.g. sentences, noun phrases, certain\n",
    "entities, activities of a process)\n",
    "- feature engineering (e.g. are fetures highly correlated and can be combined?; is\n",
    "a combination of certain features more insightful for given problem?)\n",
    "- feature enrichment (are there additional features that are not included in the\n",
    "data but seem necessary/advantageous to include?; can these be collected or generated?)"
   ]
  },
  {
   "cell_type": "markdown",
   "metadata": {},
   "source": []
  },
  {
   "cell_type": "code",
   "execution_count": 35,
   "metadata": {},
   "outputs": [
    {
     "data": {
      "text/plain": [
       "16084"
      ]
     },
     "execution_count": 35,
     "metadata": {},
     "output_type": "execute_result"
    }
   ],
   "source": [
    "\n",
    "file_path = '../data/coffee/input-coffee.txt'\n",
    "raw = open(file_path).read()\n",
    "len(raw)"
   ]
  },
  {
   "cell_type": "code",
   "execution_count": 4,
   "metadata": {},
   "outputs": [
    {
     "data": {
      "text/html": [
       "<div>\n",
       "<style scoped>\n",
       "    .dataframe tbody tr th:only-of-type {\n",
       "        vertical-align: middle;\n",
       "    }\n",
       "\n",
       "    .dataframe tbody tr th {\n",
       "        vertical-align: top;\n",
       "    }\n",
       "\n",
       "    .dataframe thead th {\n",
       "        text-align: right;\n",
       "    }\n",
       "</style>\n",
       "<table border=\"1\" class=\"dataframe\">\n",
       "  <thead>\n",
       "    <tr style=\"text-align: right;\">\n",
       "      <th></th>\n",
       "      <th>Coffee Roasting Handbook 1st Edition Exclusive!\\n\\n# About our Coffe</th>\n",
       "      <th>About our Coffe</th>\n",
       "      <th>Controls and Basic Setting</th>\n",
       "      <th># Power Switc</th>\n",
       "      <th>Power Switc</th>\n",
       "      <th># Heater Contro</th>\n",
       "      <th>Heater Contro</th>\n",
       "      <th># Ammete</th>\n",
       "      <th>Ammete</th>\n",
       "      <th># Blower Contro</th>\n",
       "      <th>...</th>\n",
       "      <th>Height of Coffee Tray</th>\n",
       "      <th># Oven Temperature</th>\n",
       "      <th>Oven Temperature</th>\n",
       "      <th># Roasting Guideline</th>\n",
       "      <th>Roasting Guideline</th>\n",
       "      <th>Additional Information\\n\\n## Increasing Capacity by painting the drum\\nSome Quest owners–to increase the maximum batch capacity or alter the roast environment’s thermal dynamics–paint the roasting drum’s exterior with high-heat matte black spray paint. Doing so causes the drum to efficiently absorb and conduct more infrared heat to the roast chamber independent of airflow speed (convection). Increasing the drum’s ability to absorb infrared heat increases the batch capacity, and heat changes are faster, even for large batch sizes (EG. &lt;10 minutes, 300g roasts on an 400° M3).\\n\\n## Coffee Bean Cooling\\nThe supplied rectangular bean collector placed in the chaff collector cools the beans. This works but has several drawbacks. First, it is slow. Second, there is no air circulation through the roasting chamber with the bean collector inserted into the chaff collector. Use an external cooler instead, such as the optional one from the manufacturer or make one. Make a small box with a muffin fan in it and set the bean collector on top. The flow of ambient air through the beans is much more efficient than the Quests’ inbuilt cooling function.\\n\\n\\n\\n</th>\n",
       "      <th># Increasing Capacity by painting the drum\\nSome Quest owners–to increase the maximum batch capacity or alter the roast environment’s thermal dynamics–paint the roasting drum’s exterior with high-heat matte black spray paint. Doing so causes the drum to efficiently absorb and conduct more infrared heat to the roast chamber independent of airflow speed (convection). Increasing the drum’s ability to absorb infrared heat increases the batch capacity, and heat changes are faster, even for large batch sizes (EG. &lt;10 minutes, 300g roasts on an 400° M3).\\n\\n## Coffee Bean Cooling\\nThe supplied rectangular bean collector placed in the chaff collector cools the beans. This works but has several drawbacks. First, it is slow. Second, there is no air circulation through the roasting chamber with the bean collector inserted into the chaff collector. Use an external cooler instead, such as the optional one from the manufacturer or make one. Make a small box with a muffin fan in it and set the bean collector on top. The flow of ambient air through the beans is much more efficient than the Quests’ inbuilt cooling function.\\n\\n\\n\\n</th>\n",
       "      <th>Increasing Capacity by painting the drum\\nSome Quest owners–to increase the maximum batch capacity or alter the roast environment’s thermal dynamics–paint the roasting drum’s exterior with high-heat matte black spray paint. Doing so causes the drum to efficiently absorb and conduct more infrared heat to the roast chamber independent of airflow speed (convection). Increasing the drum’s ability to absorb infrared heat increases the batch capacity, and heat changes are faster, even for large batch sizes (EG. &lt;10 minutes, 300g roasts on an 400° M3).\\n\\n## Coffee Bean Cooling\\nThe supplied rectangular bean collector placed in the chaff collector cools the beans. This works but has several drawbacks. First, it is slow. Second, there is no air circulation through the roasting chamber with the bean collector inserted into the chaff collector. Use an external cooler instead, such as the optional one from the manufacturer or make one. Make a small box with a muffin fan in it and set the bean collector on top. The flow of ambient air through the beans is much more efficient than the Quests’ inbuilt cooling function.\\n\\n\\n\\n</th>\n",
       "      <th># Coffee Bean Cooling\\nThe supplied rectangular bean collector placed in the chaff collector cools the beans. This works but has several drawbacks. First, it is slow. Second, there is no air circulation through the roasting chamber with the bean collector inserted into the chaff collector. Use an external cooler instead, such as the optional one from the manufacturer or make one. Make a small box with a muffin fan in it and set the bean collector on top. The flow of ambient air through the beans is much more efficient than the Quests’ inbuilt cooling function.\\n\\n\\n\\n</th>\n",
       "      <th>Coffee Bean Cooling\\nThe supplied rectangular bean collector placed in the chaff collector cools the beans. This works but has several drawbacks. First, it is slow. Second, there is no air circulation through the roasting chamber with the bean collector inserted into the chaff collector. Use an external cooler instead, such as the optional one from the manufacturer or make one. Make a small box with a muffin fan in it and set the bean collector on top. The flow of ambient air through the beans is much more efficient than the Quests’ inbuilt cooling function.\\n\\n\\n\\n</th>\n",
       "    </tr>\n",
       "  </thead>\n",
       "  <tbody>\n",
       "    <tr>\n",
       "      <th>0</th>\n",
       "      <td>\\n\\nWe roast our own coffee in the coffeehouse...</td>\n",
       "      <td>\\n\\nWe roast our own coffee in the coffeehouse...</td>\n",
       "      <td>\\n</td>\n",
       "      <td>\\nThe power switch is the upper-left knob on ...</td>\n",
       "      <td>\\nThe power switch is the upper-left knob on ...</td>\n",
       "      <td>\\nThe knob at the bottom-left of the control ...</td>\n",
       "      <td>\\nThe knob at the bottom-left of the control ...</td>\n",
       "      <td>The ammeter is on the upper-left of the contr...</td>\n",
       "      <td>The ammeter is on the upper-left of the contr...</td>\n",
       "      <td>The blower is multi-purpose; it moves air thr...</td>\n",
       "      <td>...</td>\n",
       "      <td>\\n\\nEvery coffee pile in a tray has a differen...</td>\n",
       "      <td>\\n\\nIn total our facility possesses 5 ovens, e...</td>\n",
       "      <td>\\n\\nIn total our facility possesses 5 ovens, e...</td>\n",
       "      <td>\\n\\nIn general, we first distinguish between t...</td>\n",
       "      <td>\\n\\nIn general, we first distinguish between t...</td>\n",
       "      <td>&lt;!--\\n\\tSources used for this handbook:\\n\\t\\t-...</td>\n",
       "      <td>&lt;!--\\n\\tSources used for this handbook:\\n\\t\\t-...</td>\n",
       "      <td>&lt;!--\\n\\tSources used for this handbook:\\n\\t\\t-...</td>\n",
       "      <td>&lt;!--\\n\\tSources used for this handbook:\\n\\t\\t-...</td>\n",
       "      <td>&lt;!--\\n\\tSources used for this handbook:\\n\\t\\t-...</td>\n",
       "    </tr>\n",
       "  </tbody>\n",
       "</table>\n",
       "<p>1 rows × 29 columns</p>\n",
       "</div>"
      ],
      "text/plain": [
       "   Coffee Roasting Handbook 1st Edition Exclusive!\\n\\n# About our Coffe  \\\n",
       "0  \\n\\nWe roast our own coffee in the coffeehouse...                      \n",
       "\n",
       "                                     About our Coffe  \\\n",
       "0  \\n\\nWe roast our own coffee in the coffeehouse...   \n",
       "\n",
       "   Controls and Basic Setting  \\\n",
       "0                          \\n   \n",
       "\n",
       "                                       # Power Switc  \\\n",
       "0   \\nThe power switch is the upper-left knob on ...   \n",
       "\n",
       "                                         Power Switc  \\\n",
       "0   \\nThe power switch is the upper-left knob on ...   \n",
       "\n",
       "                                     # Heater Contro  \\\n",
       "0   \\nThe knob at the bottom-left of the control ...   \n",
       "\n",
       "                                       Heater Contro  \\\n",
       "0   \\nThe knob at the bottom-left of the control ...   \n",
       "\n",
       "                                            # Ammete  \\\n",
       "0   The ammeter is on the upper-left of the contr...   \n",
       "\n",
       "                                              Ammete  \\\n",
       "0   The ammeter is on the upper-left of the contr...   \n",
       "\n",
       "                                     # Blower Contro  ...  \\\n",
       "0   The blower is multi-purpose; it moves air thr...  ...   \n",
       "\n",
       "                               Height of Coffee Tray  \\\n",
       "0  \\n\\nEvery coffee pile in a tray has a differen...   \n",
       "\n",
       "                                  # Oven Temperature  \\\n",
       "0  \\n\\nIn total our facility possesses 5 ovens, e...   \n",
       "\n",
       "                                    Oven Temperature  \\\n",
       "0  \\n\\nIn total our facility possesses 5 ovens, e...   \n",
       "\n",
       "                                # Roasting Guideline  \\\n",
       "0  \\n\\nIn general, we first distinguish between t...   \n",
       "\n",
       "                                  Roasting Guideline  \\\n",
       "0  \\n\\nIn general, we first distinguish between t...   \n",
       "\n",
       "   Additional Information\\n\\n## Increasing Capacity by painting the drum\\nSome Quest owners–to increase the maximum batch capacity or alter the roast environment’s thermal dynamics–paint the roasting drum’s exterior with high-heat matte black spray paint. Doing so causes the drum to efficiently absorb and conduct more infrared heat to the roast chamber independent of airflow speed (convection). Increasing the drum’s ability to absorb infrared heat increases the batch capacity, and heat changes are faster, even for large batch sizes (EG. <10 minutes, 300g roasts on an 400° M3).\\n\\n## Coffee Bean Cooling\\nThe supplied rectangular bean collector placed in the chaff collector cools the beans. This works but has several drawbacks. First, it is slow. Second, there is no air circulation through the roasting chamber with the bean collector inserted into the chaff collector. Use an external cooler instead, such as the optional one from the manufacturer or make one. Make a small box with a muffin fan in it and set the bean collector on top. The flow of ambient air through the beans is much more efficient than the Quests’ inbuilt cooling function.\\n\\n\\n\\n  \\\n",
       "0  <!--\\n\\tSources used for this handbook:\\n\\t\\t-...                                                                                                                                                                                                                                                                                                                                                                                                                                                                                                                                                                                                                                                                                                                                                                                                                                                                                                                                                                                                                                                                                                                                                         \n",
       "\n",
       "  # Increasing Capacity by painting the drum\\nSome Quest owners–to increase the maximum batch capacity or alter the roast environment’s thermal dynamics–paint the roasting drum’s exterior with high-heat matte black spray paint. Doing so causes the drum to efficiently absorb and conduct more infrared heat to the roast chamber independent of airflow speed (convection). Increasing the drum’s ability to absorb infrared heat increases the batch capacity, and heat changes are faster, even for large batch sizes (EG. <10 minutes, 300g roasts on an 400° M3).\\n\\n## Coffee Bean Cooling\\nThe supplied rectangular bean collector placed in the chaff collector cools the beans. This works but has several drawbacks. First, it is slow. Second, there is no air circulation through the roasting chamber with the bean collector inserted into the chaff collector. Use an external cooler instead, such as the optional one from the manufacturer or make one. Make a small box with a muffin fan in it and set the bean collector on top. The flow of ambient air through the beans is much more efficient than the Quests’ inbuilt cooling function.\\n\\n\\n\\n  \\\n",
       "0  <!--\\n\\tSources used for this handbook:\\n\\t\\t-...                                                                                                                                                                                                                                                                                                                                                                                                                                                                                                                                                                                                                                                                                                                                                                                                                                                                                                                                                                                                                                                                                                                             \n",
       "\n",
       "   Increasing Capacity by painting the drum\\nSome Quest owners–to increase the maximum batch capacity or alter the roast environment’s thermal dynamics–paint the roasting drum’s exterior with high-heat matte black spray paint. Doing so causes the drum to efficiently absorb and conduct more infrared heat to the roast chamber independent of airflow speed (convection). Increasing the drum’s ability to absorb infrared heat increases the batch capacity, and heat changes are faster, even for large batch sizes (EG. <10 minutes, 300g roasts on an 400° M3).\\n\\n## Coffee Bean Cooling\\nThe supplied rectangular bean collector placed in the chaff collector cools the beans. This works but has several drawbacks. First, it is slow. Second, there is no air circulation through the roasting chamber with the bean collector inserted into the chaff collector. Use an external cooler instead, such as the optional one from the manufacturer or make one. Make a small box with a muffin fan in it and set the bean collector on top. The flow of ambient air through the beans is much more efficient than the Quests’ inbuilt cooling function.\\n\\n\\n\\n  \\\n",
       "0  <!--\\n\\tSources used for this handbook:\\n\\t\\t-...                                                                                                                                                                                                                                                                                                                                                                                                                                                                                                                                                                                                                                                                                                                                                                                                                                                                                                                                                                                                                                                                                                                            \n",
       "\n",
       "  # Coffee Bean Cooling\\nThe supplied rectangular bean collector placed in the chaff collector cools the beans. This works but has several drawbacks. First, it is slow. Second, there is no air circulation through the roasting chamber with the bean collector inserted into the chaff collector. Use an external cooler instead, such as the optional one from the manufacturer or make one. Make a small box with a muffin fan in it and set the bean collector on top. The flow of ambient air through the beans is much more efficient than the Quests’ inbuilt cooling function.\\n\\n\\n\\n  \\\n",
       "0  <!--\\n\\tSources used for this handbook:\\n\\t\\t-...                                                                                                                                                                                                                                                                                                                                                                                                                                                                                                                                               \n",
       "\n",
       "   Coffee Bean Cooling\\nThe supplied rectangular bean collector placed in the chaff collector cools the beans. This works but has several drawbacks. First, it is slow. Second, there is no air circulation through the roasting chamber with the bean collector inserted into the chaff collector. Use an external cooler instead, such as the optional one from the manufacturer or make one. Make a small box with a muffin fan in it and set the bean collector on top. The flow of ambient air through the beans is much more efficient than the Quests’ inbuilt cooling function.\\n\\n\\n\\n  \n",
       "0  <!--\\n\\tSources used for this handbook:\\n\\t\\t-...                                                                                                                                                                                                                                                                                                                                                                                                                                                                                                                                             \n",
       "\n",
       "[1 rows x 29 columns]"
      ]
     },
     "execution_count": 4,
     "metadata": {},
     "output_type": "execute_result"
    }
   ],
   "source": [
    "file_path = '../data/coffee/input-coffee.txt'\n",
    "section_start = '#'\n",
    "section_end = ':'\n",
    "subsection_start = '##'\n",
    "subsection_end = ':'\n",
    "\n",
    "\n",
    "def splitIntoColumns(file_path, section_start, section_end, subsection_start, subsection_end, remove_distance=True):\n",
    "    \"\"\"\n",
    "    Reads the text from a .txt file and returns it as a pandas Dataframe, broken down into sections and sub-sections. \n",
    "    \"\"\"\n",
    "    raw = open(file_path).read()\n",
    "    length = len(raw)\n",
    "    \n",
    "    sections = {}\n",
    "\n",
    "    # split text into sections\n",
    "    last_found = 0\n",
    "\n",
    "    while last_found != -1:\n",
    "        start = raw.find(section_start, last_found+1, length)\n",
    "        last_found = start\n",
    "        \n",
    "        if last_found != -1: \n",
    "            end = raw.find(section_end, start+1, length)\n",
    "            next_start = raw.find(section_start, end+1, length)\n",
    "            if next_start == -1: # last section\n",
    "                next_start = 0 \n",
    "            sections[raw[start+1:end-1]] = raw[end+1:next_start-1]\n",
    "\n",
    "    df = pd.DataFrame([sections])\n",
    "\n",
    "    return df\n",
    "\n",
    "splitIntoColumns(file_path, section_start, section_end, subsection_start, subsection_end)"
   ]
  },
  {
   "cell_type": "code",
   "execution_count": null,
   "metadata": {},
   "outputs": [],
   "source": []
  }
 ],
 "metadata": {
  "kernelspec": {
   "display_name": "nlp-rules",
   "language": "python",
   "name": "python3"
  },
  "language_info": {
   "codemirror_mode": {
    "name": "ipython",
    "version": 3
   },
   "file_extension": ".py",
   "mimetype": "text/x-python",
   "name": "python",
   "nbconvert_exporter": "python",
   "pygments_lexer": "ipython3",
   "version": "3.10.13"
  }
 },
 "nbformat": 4,
 "nbformat_minor": 2
}
